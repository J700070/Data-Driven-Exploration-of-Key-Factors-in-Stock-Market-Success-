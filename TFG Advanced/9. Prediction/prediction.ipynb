{
 "cells": [
  {
   "cell_type": "code",
   "execution_count": 62,
   "metadata": {},
   "outputs": [],
   "source": [
    "import pandas as pd\n",
    "import datetime\n",
    "import matplotlib.pyplot as plt\n",
    "import numpy as np\n",
    "from xgboost import XGBRFRegressor\n",
    "from xgboost import XGBRegressor\n",
    "from sklearn.metrics import mean_absolute_error\n",
    "from sklearn.metrics import r2_score\n",
    "from sklearn.model_selection import cross_validate\n",
    "from sklearn.ensemble import RandomForestRegressor\n",
    "from sklearn.preprocessing import Normalizer\n",
    "from sklearn.decomposition import PCA\n",
    "from sklearn.preprocessing import StandardScaler\n",
    "from sklearn.model_selection import RandomizedSearchCV\n",
    "from featurewiz import featurewiz\n",
    "from sklearn.linear_model import LinearRegression\n",
    "\n"
   ]
  },
  {
   "cell_type": "markdown",
   "metadata": {},
   "source": [
    "# Functions\n"
   ]
  },
  {
   "cell_type": "code",
   "execution_count": 63,
   "metadata": {},
   "outputs": [],
   "source": [
    "df = pd.read_csv(\"..\\\\7. Data Preparation\\\\Basic_information_cleaned5.csv\", index_col=0)"
   ]
  },
  {
   "cell_type": "code",
   "execution_count": 64,
   "metadata": {},
   "outputs": [],
   "source": [
    "# open macroeconomic data\n",
    "df_macro = pd.read_csv(\"..\\\\6. Macroeconomic Data\\\\Macro.csv\",sep=\";\", index_col=0)"
   ]
  },
  {
   "cell_type": "code",
   "execution_count": 65,
   "metadata": {},
   "outputs": [],
   "source": [
    "def get_fcf_val(current_earnings,growth_1,growth_2, discount_rate, exit_multiple):\n",
    "    year1 = (current_earnings * (1 + growth_1))\n",
    "    year2 = (year1 * (1 + growth_1))\n",
    "    year3 = (year2 * (1 + growth_1))\n",
    "    year4 = (year3 * (1 + growth_1))\n",
    "    year5 = (year4 * (1 + growth_1))\n",
    "    year6 = (year5 * (1 + growth_2))\n",
    "    year7 = (year6 * (1 + growth_2))\n",
    "    year8 = (year7 * (1 + growth_2))\n",
    "    year9 = (year8 * (1 + growth_2))\n",
    "    year10 = (year9 * (1 + growth_2))\n",
    "\n",
    "    discounted_year1 = year1 / (1 + discount_rate)\n",
    "    discounted_year2 = year2 / (1 + discount_rate)**2\n",
    "    discounted_year3 = year3 / (1 + discount_rate)**3\n",
    "    discounted_year4 = year4 / (1 + discount_rate)**4\n",
    "    discounted_year5 = year5 / (1 + discount_rate)**5\n",
    "    discounted_year6 = year6 / (1 + discount_rate)**6\n",
    "    discounted_year7 = year7 / (1 + discount_rate)**7\n",
    "    discounted_year8 = year8 / (1 + discount_rate)**8\n",
    "    discounted_year9 = year9 / (1 + discount_rate)**9\n",
    "    discounted_year10 = year10 / (1 + discount_rate)**10\n",
    "\n",
    "    discounted_values = [discounted_year1, discounted_year2, discounted_year3, discounted_year4, discounted_year5, discounted_year6, discounted_year7, discounted_year8, discounted_year9, discounted_year10]\n",
    "\n",
    "    exit_value = (year10 * exit_multiple) / (1 + discount_rate)**10\n",
    "\n",
    "    dcf = pd.DataFrame({\"Discounted Value\": discounted_values}, index=[\"Year 1\", \"Year 2\", \"Year 3\", \"Year 4\", \"Year 5\", \"Year 6\", \"Year 7\", \"Year 8\", \"Year 9\", \"Year 10\"])\n",
    "    dcf[\"Cumulative Value\"] = dcf[\"Discounted Value\"].cumsum()\n",
    "\n",
    "    present_value = dcf.at[\"Year 9\",\"Cumulative Value\"] + exit_value\n",
    "    return present_value.round(2)"
   ]
  },
  {
   "cell_type": "code",
   "execution_count": 66,
   "metadata": {},
   "outputs": [],
   "source": [
    "def calculate_valuation_metrics(fundamental_data):\n",
    "    # fundamental_data = pd.read_csv(\"..\\\\7. Data Preparation\\\\FinalFundamentalsWithGrowth\\\\\"+ticker+\".csv\", index_col=0)\n",
    "\n",
    "    # calculamos el per histórico\n",
    "    fundamental_data[\"PER\"] = fundamental_data[\"Close\"].shift(1) / fundamental_data[\"EPS\"]\n",
    "    fundamental_data[\"PER_3\"] = fundamental_data[\"PER\"].rolling(3).mean()\n",
    "    fundamental_data[\"PER_5\"] = fundamental_data[\"PER\"].rolling(5).mean()\n",
    "    fundamental_data[\"PER_10\"] = fundamental_data[\"PER\"].rolling(10).mean()\n",
    "\n",
    "    fundamental_data[\"Intrinsic Value\"] = fundamental_data[\"EPS\"] * fundamental_data[\"PER\"]\n",
    "    fundamental_data[\"Intrinsic Value 3\"] = fundamental_data[\"EPS\"] * fundamental_data[\"PER_3\"]\n",
    "    fundamental_data[\"Intrinsic Value 5\"] = fundamental_data[\"EPS\"] * fundamental_data[\"PER_5\"]\n",
    "    fundamental_data[\"Intrinsic Value 10\"] = fundamental_data[\"EPS\"] * fundamental_data[\"PER_10\"]\n",
    "\n",
    "    fundamental_data[\"Intrinsic Value FCF\"] = 0\n",
    "    \n",
    "    for index, row in fundamental_data.iterrows():\n",
    "        # Discounted Cash Flow\n",
    "        fundamental_data.loc[index,\"Intrinsic Value FCF\"] = get_fcf_val(row[\"EPS\"], row[\"EPS Diluted growth 3 year average\"] *0.8, row[\"EPS Diluted growth 5 year average\"] *0.5, 0.14, row[\"PER_5\"])\n",
    "    \n",
    "    # replace np.inf with 0\n",
    "    fundamental_data[\"Intrinsic Value FCF\"] = fundamental_data[\"Intrinsic Value FCF\"].replace(np.inf, np.nan)\n",
    "    fundamental_data[\"Intrinsic Value FCF\"] = fundamental_data[\"Intrinsic Value FCF\"].replace(-np.inf, np.nan)\n",
    "    # replace nan or zero values\n",
    "    fundamental_data[\"Intrinsic Value FCF\"] = fundamental_data[\"Intrinsic Value FCF\"].fillna(fundamental_data[\"Intrinsic Value 10\"])\n",
    "    fundamental_data[\"Intrinsic Value FCF\"] = fundamental_data[\"Intrinsic Value FCF\"].fillna(fundamental_data[\"Intrinsic Value 5\"])\n",
    "    fundamental_data[\"Intrinsic Value FCF\"] = fundamental_data[\"Intrinsic Value FCF\"].fillna(fundamental_data[\"Intrinsic Value 3\"])\n",
    "    fundamental_data[\"Intrinsic Value FCF\"] = fundamental_data[\"Intrinsic Value FCF\"].fillna(fundamental_data[\"Intrinsic Value\"])\n",
    "    fundamental_data[\"Intrinsic Value FCF\"] = fundamental_data[\"Intrinsic Value FCF\"].fillna(fundamental_data[\"Close\"])\n",
    "\n",
    "    # calculate price moving average not including the current year\n",
    "    fundamental_data[\"Price Moving Average 2 years\"] = fundamental_data[\"Close\"].shift(1).rolling(2).mean()\n",
    "    fundamental_data[\"Price Moving Average 3 years\"] = fundamental_data[\"Close\"].shift(1).rolling(3).mean()\n",
    "    fundamental_data[\"Price Moving Average 4 years\"] = fundamental_data[\"Close\"].shift(1).rolling(4).mean()\n",
    "    fundamental_data[\"Price Moving Average 5 years\"] = fundamental_data[\"Close\"].shift(1).rolling(5).mean()\n",
    "    fundamental_data[\"Price Moving Average 6 years\"] = fundamental_data[\"Close\"].shift(1).rolling(6).mean()\n",
    "    fundamental_data[\"Price Moving Average 7 years\"] = fundamental_data[\"Close\"].shift(1).rolling(7).mean()\n",
    "    fundamental_data[\"Price Moving Average 8 years\"] = fundamental_data[\"Close\"].shift(1).rolling(8).mean()\n",
    "    fundamental_data[\"Price Moving Average 9 years\"] = fundamental_data[\"Close\"].shift(1).rolling(9).mean()\n",
    "    fundamental_data[\"Price Moving Average 10 years\"] = fundamental_data[\"Close\"].shift(1).rolling(10).mean()\n",
    "\n",
    "    # # Create MACD\n",
    "    # fundamental_data['2ema'] = fundamental_data['Close'].shift(1).ewma(span=2)\n",
    "    # fundamental_data['1ema'] = fundamental_data['Close'].shift(1).ewma(span=1)\n",
    "    # fundamental_data['MACD'] = (fundamental_data['1ema']-fundamental_data['2ema'])\n",
    "\n",
    "    # # Create Bollinger Bands\n",
    "    # fundamental_data['20sd'] = fundamental_data['Close'].shift(1).stats.moments.rolling_std(20)\n",
    "    # fundamental_data['upper_band'] = fundamental_data['ma21'] + (fundamental_data['20sd']*2)\n",
    "    # fundamental_data['lower_band'] = fundamental_data['ma21'] - (fundamental_data['20sd']*2)\n",
    "    \n",
    "    # # Create Exponential moving average\n",
    "    # fundamental_data['ema'] = fundamental_data['Close'].shift(1).ewm(com=0.5).mean()\n",
    "    \n",
    "    # Create Momentum\n",
    "    # fundamental_data['momentum'] = fundamental_data['Close'].shift(1)-1\n",
    "\n",
    "    # # Shifted close\n",
    "    # fundamental_data['shifted_close'] = fundamental_data['Close'].shift(1)\n",
    "\n",
    "    # # Market Cap\n",
    "    # # fundamental_data['Market Cap'] = fundamental_data[\"shifted_close\"] * fundamental_data[\"Weighted Average Shares Outstanding\"]\n",
    "\n",
    "    # # Date\n",
    "    # fundamental_data['Date'] = fundamental_data.index\n",
    "\n",
    "\n",
    "    return fundamental_data"
   ]
  },
  {
   "cell_type": "markdown",
   "metadata": {},
   "source": [
    "# Prediction"
   ]
  },
  {
   "cell_type": "code",
   "execution_count": 67,
   "metadata": {},
   "outputs": [],
   "source": [
    "stock = \"AAPL\"\n",
    "fundamental_data = pd.read_csv(\"..\\\\7. Data Preparation\\\\FinalFundamentalsWithGrowth\\\\\"+stock+\".csv\", index_col=0)\n",
    "# stock_data = calculate_valuation_metrics(fundamental_data)\n",
    "# dropeamos macro\n",
    "# df_macro.dropna(inplace=True)\n",
    "\n",
    "# join the data\n",
    "# stock_data = stock_data.join(df_macro)\n",
    "# stock_data.replace([np.nan,np.inf, -np.inf], 0, inplace=True)"
   ]
  },
  {
   "cell_type": "code",
   "execution_count": 68,
   "metadata": {},
   "outputs": [],
   "source": [
    "selected_features = [\"Close\",\"Revenue\", \"EPS\", \"EPS Diluted growth 3 year average\", \"EPS Diluted growth 5 year average\", \"EPS Diluted growth 10 year average\", \"Total Assets\", \"Dividends Paid\"]"
   ]
  },
  {
   "cell_type": "code",
   "execution_count": 69,
   "metadata": {},
   "outputs": [],
   "source": [
    "X = fundamental_data[selected_features]\n",
    "X = calculate_valuation_metrics(X)\n",
    "X.replace([np.nan,np.inf, -np.inf], 0, inplace=True)\n",
    "y = fundamental_data[\"Close\"]\n",
    "# list = [col for col in stock_data.columns if \"Dividend Cum\" in col or \"Close\" in col or \"Open\" in col or \"Volume\" in col or \"Price\" in col]\n",
    "# X = stock_data.drop(list, axis=1)\n",
    "\n",
    "\n",
    "y_train = y[:round(y.shape[0]*0.7)]\n",
    "y_test = y[round(y.shape[0]*0.7):]"
   ]
  },
  {
   "cell_type": "code",
   "execution_count": 70,
   "metadata": {},
   "outputs": [],
   "source": [
    "# plt.rcParams['figure.figsize'] = (10, 6)\n",
    "# stock_data[[\"Close\",\"Intrinsic Value FCF\"]].plot()"
   ]
  },
  {
   "cell_type": "markdown",
   "metadata": {},
   "source": [
    "# PCA"
   ]
  },
  {
   "cell_type": "code",
   "execution_count": 71,
   "metadata": {},
   "outputs": [],
   "source": [
    "# X_scaled = StandardScaler().fit_transform(X)\n",
    "# X = pd.DataFrame(X_scaled, index=X.index, columns=X.columns)\n",
    "# X_train = X[:round(X.shape[0]*0.7)]\n",
    "# X_test = X[round(X.shape[0]*0.7):]"
   ]
  },
  {
   "cell_type": "code",
   "execution_count": 72,
   "metadata": {},
   "outputs": [],
   "source": [
    "# X_normalized = Normalizer().fit_transform(X)\n",
    "# X = pd.DataFrame(X_normalized, index=X.index, columns=X.columns)"
   ]
  },
  {
   "cell_type": "code",
   "execution_count": 73,
   "metadata": {},
   "outputs": [],
   "source": [
    "# pca = PCA(n_components=0.99)\n",
    "# X_pca = pca.fit_transform(X)\n",
    "# X = pd.DataFrame(X_pca, index=X.index)"
   ]
  },
  {
   "cell_type": "code",
   "execution_count": 74,
   "metadata": {},
   "outputs": [],
   "source": [
    "# features = featurewiz(\n",
    "#     #Set the dataset you want to do the feature selection\n",
    "#     dataname= X,\n",
    "#     #Set the target column\n",
    "#     target = 'Close',\n",
    "#     #Set threshold for removing variables, the threshold is based on   Pearson correlation\n",
    "#     corr_limit=0.7\n",
    "#     )\n"
   ]
  },
  {
   "cell_type": "code",
   "execution_count": 75,
   "metadata": {},
   "outputs": [],
   "source": [
    "# X = X[features[0]]"
   ]
  },
  {
   "cell_type": "code",
   "execution_count": 76,
   "metadata": {},
   "outputs": [],
   "source": [
    "\n",
    "# Test and train data\n",
    "X_train = X[:round(X.shape[0]*0.7)]\n",
    "X_test = X[round(X.shape[0]*0.7):]\n"
   ]
  },
  {
   "cell_type": "markdown",
   "metadata": {},
   "source": [
    "### ACABA PCA"
   ]
  },
  {
   "cell_type": "code",
   "execution_count": 77,
   "metadata": {},
   "outputs": [],
   "source": [
    "# model = XGBRegressor()\n",
    "# model.fit(X_train, y_train)\n",
    "\n",
    "\n",
    "# grid_rf = {\n",
    "# 'n_estimators': np.arange(1,1000,50),\n",
    "# 'learning_rate': np.arange(0.1,2,0.1),\n",
    "# 'max_depth': np.arange(1, 50, 1),  \n",
    "# }\n",
    "\n",
    "# rscv = RandomizedSearchCV(estimator=model, param_distributions=grid_rf, cv=3, n_jobs=-1, verbose=2, n_iter=200)\n",
    "# rscv_fit = rscv.fit(X_train, y_train)\n",
    "# best_parameters = rscv_fit.best_params_\n"
   ]
  },
  {
   "cell_type": "code",
   "execution_count": 78,
   "metadata": {},
   "outputs": [],
   "source": [
    "\n",
    "best_model = RandomForestRegressor()\n",
    "best_model.fit(X_train, y_train)\n",
    "y_pred = best_model.predict(X_test)"
   ]
  },
  {
   "cell_type": "code",
   "execution_count": 79,
   "metadata": {},
   "outputs": [],
   "source": [
    "\n",
    "# best_model = XGBRegressor(n_estimators=best_parameters.get(\"n_estimators\"), learning_rate=best_parameters.get(\"best_parameters\"), n_jobs=4, max_depth=best_parameters.get(\"max_depth\"))\n",
    "# best_model.fit(X_train, y_train)\n",
    "# y_pred = best_model.predict(X_test)\n",
    "\n",
    "y_pred = pd.DataFrame(y_pred, index=y_test.index)\n"
   ]
  },
  {
   "cell_type": "code",
   "execution_count": 80,
   "metadata": {},
   "outputs": [
    {
     "data": {
      "text/plain": [
       "-1.0619882338744113"
      ]
     },
     "execution_count": 80,
     "metadata": {},
     "output_type": "execute_result"
    }
   ],
   "source": [
    "r2_score(y_test, y_pred)"
   ]
  },
  {
   "cell_type": "code",
   "execution_count": 81,
   "metadata": {},
   "outputs": [
    {
     "data": {
      "text/html": [
       "<div>\n",
       "<style scoped>\n",
       "    .dataframe tbody tr th:only-of-type {\n",
       "        vertical-align: middle;\n",
       "    }\n",
       "\n",
       "    .dataframe tbody tr th {\n",
       "        vertical-align: top;\n",
       "    }\n",
       "\n",
       "    .dataframe thead th {\n",
       "        text-align: right;\n",
       "    }\n",
       "</style>\n",
       "<table border=\"1\" class=\"dataframe\">\n",
       "  <thead>\n",
       "    <tr style=\"text-align: right;\">\n",
       "      <th></th>\n",
       "      <th>0</th>\n",
       "      <th>Close</th>\n",
       "    </tr>\n",
       "  </thead>\n",
       "  <tbody>\n",
       "    <tr>\n",
       "      <th>2011</th>\n",
       "      <td>7.78260</td>\n",
       "      <td>13.115</td>\n",
       "    </tr>\n",
       "    <tr>\n",
       "      <th>2012</th>\n",
       "      <td>7.78260</td>\n",
       "      <td>20.880</td>\n",
       "    </tr>\n",
       "    <tr>\n",
       "      <th>2013</th>\n",
       "      <td>7.50040</td>\n",
       "      <td>16.215</td>\n",
       "    </tr>\n",
       "    <tr>\n",
       "      <th>2014</th>\n",
       "      <td>7.45945</td>\n",
       "      <td>23.565</td>\n",
       "    </tr>\n",
       "    <tr>\n",
       "      <th>2015</th>\n",
       "      <td>7.32545</td>\n",
       "      <td>30.105</td>\n",
       "    </tr>\n",
       "    <tr>\n",
       "      <th>2016</th>\n",
       "      <td>7.13000</td>\n",
       "      <td>26.285</td>\n",
       "    </tr>\n",
       "    <tr>\n",
       "      <th>2017</th>\n",
       "      <td>7.27860</td>\n",
       "      <td>37.685</td>\n",
       "    </tr>\n",
       "    <tr>\n",
       "      <th>2018</th>\n",
       "      <td>7.28345</td>\n",
       "      <td>45.465</td>\n",
       "    </tr>\n",
       "    <tr>\n",
       "      <th>2019</th>\n",
       "      <td>7.15325</td>\n",
       "      <td>51.180</td>\n",
       "    </tr>\n",
       "    <tr>\n",
       "      <th>2020</th>\n",
       "      <td>7.15325</td>\n",
       "      <td>98.730</td>\n",
       "    </tr>\n",
       "    <tr>\n",
       "      <th>2021</th>\n",
       "      <td>7.15325</td>\n",
       "      <td>139.230</td>\n",
       "    </tr>\n",
       "  </tbody>\n",
       "</table>\n",
       "</div>"
      ],
      "text/plain": [
       "            0    Close\n",
       "2011  7.78260   13.115\n",
       "2012  7.78260   20.880\n",
       "2013  7.50040   16.215\n",
       "2014  7.45945   23.565\n",
       "2015  7.32545   30.105\n",
       "2016  7.13000   26.285\n",
       "2017  7.27860   37.685\n",
       "2018  7.28345   45.465\n",
       "2019  7.15325   51.180\n",
       "2020  7.15325   98.730\n",
       "2021  7.15325  139.230"
      ]
     },
     "execution_count": 81,
     "metadata": {},
     "output_type": "execute_result"
    }
   ],
   "source": [
    "y_pred.join(y_test)"
   ]
  },
  {
   "cell_type": "code",
   "execution_count": 82,
   "metadata": {},
   "outputs": [
    {
     "data": {
      "image/png": "[encoded data removed]",
      "text/plain": [
       "<Figure size 1200x600 with 1 Axes>"
      ]
     },
     "metadata": {},
     "output_type": "display_data"
    }
   ],
   "source": [
    "plt.figure(figsize=(12, 6), dpi=100)\n",
    "plt.plot(y, label='Real')\n",
    "\n",
    "# concat y_train and y_pred\n",
    "y_pred = pd.concat([y_train, y_pred])\n",
    "\n",
    "plt.plot(y_pred, color='red', label='Predicted')\n",
    "plt.legend()\n",
    "plt.show()"
   ]
  },
  {
   "cell_type": "markdown",
   "metadata": {},
   "source": [
    "# Feature Importance"
   ]
  },
  {
   "cell_type": "code",
   "execution_count": 83,
   "metadata": {},
   "outputs": [
    {
     "ename": "NameError",
     "evalue": "name 'best_parameters' is not defined",
     "output_type": "error",
     "traceback": [
      "\u001b[1;31m---------------------------------------------------------------------------\u001b[0m",
      "\u001b[1;31mNameError\u001b[0m                                 Traceback (most recent call last)",
      "\u001b[1;32mc:\\Users\\juani\\Dropbox\\TFG Advanced\\9. Prediction\\prediction.ipynb Cell 27'\u001b[0m in \u001b[0;36m<cell line: 4>\u001b[1;34m()\u001b[0m\n\u001b[0;32m      <a href='vscode-notebook-cell:/c%3A/Users/juani/Dropbox/TFG%20Advanced/9.%20Prediction/prediction.ipynb#ch0000025?line=0'>1</a>\u001b[0m \u001b[39mfrom\u001b[39;00m \u001b[39mxgboost\u001b[39;00m \u001b[39mimport\u001b[39;00m plot_importance\n\u001b[1;32m----> <a href='vscode-notebook-cell:/c%3A/Users/juani/Dropbox/TFG%20Advanced/9.%20Prediction/prediction.ipynb#ch0000025?line=3'>4</a>\u001b[0m best_model \u001b[39m=\u001b[39m XGBRFRegressor(n_estimators\u001b[39m=\u001b[39mbest_parameters\u001b[39m.\u001b[39mget(\u001b[39m\"\u001b[39m\u001b[39mn_estimators\u001b[39m\u001b[39m\"\u001b[39m), learning_rate\u001b[39m=\u001b[39mbest_parameters\u001b[39m.\u001b[39mget(\u001b[39m\"\u001b[39m\u001b[39mlearning_rate\u001b[39m\u001b[39m\"\u001b[39m), n_jobs\u001b[39m=\u001b[39m\u001b[39m4\u001b[39m)\n\u001b[0;32m      <a href='vscode-notebook-cell:/c%3A/Users/juani/Dropbox/TFG%20Advanced/9.%20Prediction/prediction.ipynb#ch0000025?line=4'>5</a>\u001b[0m best_model\u001b[39m.\u001b[39mfit(X, y)\n\u001b[0;32m      <a href='vscode-notebook-cell:/c%3A/Users/juani/Dropbox/TFG%20Advanced/9.%20Prediction/prediction.ipynb#ch0000025?line=6'>7</a>\u001b[0m plt\u001b[39m.\u001b[39mrcParams[\u001b[39m'\u001b[39m\u001b[39mfigure.figsize\u001b[39m\u001b[39m'\u001b[39m] \u001b[39m=\u001b[39m (\u001b[39m30\u001b[39m, \u001b[39m15\u001b[39m)\n",
      "\u001b[1;31mNameError\u001b[0m: name 'best_parameters' is not defined"
     ]
    }
   ],
   "source": [
    "from xgboost import plot_importance\n",
    "\n",
    "\n",
    "best_model = XGBRFRegressor(n_estimators=best_parameters.get(\"n_estimators\"), learning_rate=best_parameters.get(\"learning_rate\"), n_jobs=4)\n",
    "best_model.fit(X, y)\n",
    "\n",
    "plt.rcParams['figure.figsize'] = (30, 15)\n",
    "plot_importance(best_model)\n",
    "plt.show()"
   ]
  },
  {
   "cell_type": "code",
   "execution_count": null,
   "metadata": {},
   "outputs": [],
   "source": []
  },
  {
   "cell_type": "code",
   "execution_count": null,
   "metadata": {},
   "outputs": [],
   "source": []
  }
 ],
 "metadata": {
  "interpreter": {
   "hash": "5d11e9b75ec522b573d029781989d5a4cc8ff370e09c1a6f9122240f95662d7c"
  },
  "kernelspec": {
   "display_name": "Python 3.9.12 ('env3')",
   "language": "python",
   "name": "python3"
  },
  "language_info": {
   "codemirror_mode": {
    "name": "ipython",
    "version": 3
   },
   "file_extension": ".py",
   "mimetype": "text/x-python",
   "name": "python",
   "nbconvert_exporter": "python",
   "pygments_lexer": "ipython3",
   "version": "3.9.12"
  },
  "orig_nbformat": 4
 },
 "nbformat": 4,
 "nbformat_minor": 2
}
